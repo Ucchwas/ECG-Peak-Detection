{
  "nbformat": 4,
  "nbformat_minor": 0,
  "metadata": {
    "colab": {
      "provenance": [],
      "collapsed_sections": [],
      "authorship_tag": "ABX9TyOQOMCVebmEpBrEGXoHQNw+",
      "include_colab_link": true
    },
    "kernelspec": {
      "name": "python3",
      "display_name": "Python 3"
    },
    "language_info": {
      "name": "python"
    }
  },
  "cells": [
    {
      "cell_type": "markdown",
      "metadata": {
        "id": "view-in-github",
        "colab_type": "text"
      },
      "source": [
        "<a href=\"https://colab.research.google.com/github/Ucchwas/ECG-Peak-Detection/blob/main/ECG_Peak_Detection.ipynb\" target=\"_parent\"><img src=\"https://colab.research.google.com/assets/colab-badge.svg\" alt=\"Open In Colab\"/></a>"
      ]
    },
    {
      "cell_type": "code",
      "execution_count": 1,
      "metadata": {
        "colab": {
          "base_uri": "https://localhost:8080/"
        },
        "id": "Lkg9JuJMr0mY",
        "outputId": "2e7465b4-28d3-4f53-c3c0-be6f54d98a7a"
      },
      "outputs": [
        {
          "output_type": "stream",
          "name": "stdout",
          "text": [
            "Mounted at /content/drive\n"
          ]
        }
      ],
      "source": [
        "from google.colab import drive\n",
        "drive.mount(\"/content/drive\")"
      ]
    },
    {
      "cell_type": "code",
      "source": [
        "import numpy as np\n",
        "import pandas as pd\n",
        "import matplotlib.pyplot as plt\n",
        "import scipy.signal as sig\n",
        "\n",
        "\n",
        "\n",
        "#low-pass filter\n",
        "def lpf(x):\n",
        "\ty = x.copy()\n",
        "\t\n",
        "\tfor n in x.index:\n",
        "\t\tif(n < 12):\n",
        "\t\t\tcontinue\n",
        "\t\ty.iloc[n,1] = 2*y.iloc[n-1,1] - y.iloc[n-2,1] + x.iloc[n,1] - 2*x.iloc[n-6,1] + x.iloc[n-12,1] \n",
        "\treturn y\n",
        "\n",
        "\n",
        "#high-pass filter\n",
        "def hpf(x):\n",
        "\ty = x.copy()\n",
        "\t\n",
        "\tfor n in x.index:\n",
        "\t\tif(n < 32):\n",
        "\t\t\tcontinue\n",
        "\t\ty.iloc[n,1] = y.iloc[n-1,1] - x.iloc[n,1]/32 + x.iloc[n-16,1] - x.iloc[n-17,1] + x.iloc[n-32,1]/32\n",
        "\treturn y\n",
        "\n",
        "#defivative of signal\n",
        "def deriv(x):\n",
        "\ty = x.copy()\n",
        "\n",
        "\tfor n in x.index:\n",
        "\t\tif(n < 4):\n",
        "\t\t\tcontinue\n",
        "\t\ty.iloc[n, 1] = (2*x.iloc[n,1] + x.iloc[n-1,1] - x.iloc[n-3,1] - 2*x.iloc[n-4,1])/4\n",
        "\treturn y\n",
        "\n",
        "#squarring the signal\n",
        "def squaring(x):\n",
        "\ty = x.copy()\n",
        "\n",
        "\tfor n in x.index:\n",
        "\t\ty.iloc[n,1] = x.iloc[n,1]**2\n",
        "\treturn y\n",
        "\n",
        "#integral of the signal for a moving window of ws size.\n",
        "def win_sum(x, ws):\n",
        "\ty = x.copy()\n",
        "\tl = int(ws/2)\n",
        "\t\n",
        "\tfor n in x.index:\n",
        "\t\ttmp_sum = 0\n",
        "\t\t\n",
        "\t\tif(n > 933-l):\n",
        "\t\t\tbreak\n",
        "\n",
        "\t\tif(n < l):\n",
        "\t\t\tcontinue\n",
        "\t\tfor j in range(n-l,n+l+1):\n",
        "\t\t\ttmp_sum += x.iloc[j,1]\n",
        "\t\ty.iloc[n,1] = tmp_sum/(l+1)\t\t\n",
        "\treturn y\n",
        "\n",
        "def detection(x):\n",
        "\ty = x.copy()"
      ],
      "metadata": {
        "id": "uSPeKJdc5v8z"
      },
      "execution_count": 2,
      "outputs": []
    },
    {
      "cell_type": "code",
      "source": [
        "def findpeaks(data, spacing=1, limit=None):\n",
        "    \"\"\"Finds peaks in `data` which are of `spacing` width and >=`limit`.\n",
        "    :param data: values\n",
        "    :param spacing: minimum spacing to the next peak (should be 1 or more)\n",
        "    :param limit: peaks should have value greater or equal\n",
        "    :return:\n",
        "    \"\"\"\n",
        "    ln = data.size\n",
        "    x = np.zeros(ln+2*spacing)\n",
        "    x[:spacing] = data[0]-1.e-6\n",
        "    x[-spacing:] = data[-1]-1.e-6\n",
        "    x[spacing:spacing+ln] = data\n",
        "    peak_candidate = np.zeros(ln)\n",
        "    peak_candidate[:] = True\n",
        "    for s in range(spacing):\n",
        "        start = spacing - s - 1\n",
        "        h_b = x[start : start + ln]  # before\n",
        "        start = spacing\n",
        "        h_c = x[start : start + ln]  # central\n",
        "        start = spacing + s + 1\n",
        "        h_a = x[start : start + ln]  # after\n",
        "        peak_candidate = np.logical_and(peak_candidate, np.logical_and(h_c > h_b, h_c > h_a))\n",
        "\n",
        "    ind = np.argwhere(peak_candidate)\n",
        "    ind = ind.reshape(ind.size)\n",
        "    if limit is not None:\n",
        "        ind = ind[data[ind] > limit]\n",
        "    return ind"
      ],
      "metadata": {
        "id": "pUaxknEW50Yq"
      },
      "execution_count": 3,
      "outputs": []
    },
    {
      "cell_type": "code",
      "source": [
        "def findPeaksForECG():\n",
        "    ecg = pd.read_csv('drive/MyDrive/ecg_data.csv')\n",
        "    limit = 0\n",
        "    spacing = 3\n",
        "\n",
        "    print(ecg.iloc[:,1])\n",
        "    #Application of lpf\n",
        "    f1 = lpf(ecg)\n",
        "    #Application of hpf\n",
        "    f2 = hpf(f1)\n",
        "    #Application of the derivative\n",
        "    f3 = deriv(f2)\n",
        "    #squaring signal\n",
        "    f4 = squaring(f3)\n",
        "    #print(f4)\n",
        "    window_size = 22 \n",
        "    f5 = win_sum(f4, window_size)\n",
        "    peaks = findpeaks(np.array(f5.iloc[:,1]), spacing=spacing, limit=limit)\n",
        "    return peaks"
      ],
      "metadata": {
        "id": "HJUx8MCz522K"
      },
      "execution_count": 4,
      "outputs": []
    },
    {
      "cell_type": "code",
      "source": [
        "print(findPeaksForECG())"
      ],
      "metadata": {
        "colab": {
          "base_uri": "https://localhost:8080/"
        },
        "id": "2G1-Wel86DRj",
        "outputId": "e4cd00c3-98db-4c05-8bbd-99674db233bd"
      },
      "execution_count": 5,
      "outputs": [
        {
          "output_type": "stream",
          "name": "stdout",
          "text": [
            "0      2.233627\n",
            "1      2.179863\n",
            "2      2.150538\n",
            "3      2.160313\n",
            "4      2.155425\n",
            "         ...   \n",
            "929    2.438905\n",
            "930    2.394917\n",
            "931    2.375367\n",
            "932    2.365591\n",
            "933    2.306940\n",
            "Name: ecg_measurement, Length: 934, dtype: float64\n",
            "[  0   7  11  35  48 100 134 142 173 187 200 237 252 271 300 330 347 360\n",
            " 373 387 407 427 436 500 541 560 567 577 595 611 626 654 672 701 746 775\n",
            " 821 832 892 932]\n"
          ]
        }
      ]
    }
  ]
}